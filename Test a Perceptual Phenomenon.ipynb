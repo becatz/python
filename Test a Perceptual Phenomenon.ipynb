{
 "cells": [
  {
   "cell_type": "markdown",
   "metadata": {},
   "source": [
    "### Analyzing the Stroop Effect\n",
    "Perform the analysis in the space below. Remember to follow [the instructions](https://docs.google.com/document/d/1-OkpZLjG_kX9J6LIQ5IltsqMzVWjh36QpnP2RYpVdPU/pub?embedded=True) and review the [project rubric](https://review.udacity.com/#!/rubrics/71/view) before submitting. Once you've completed the analysis and write up, download this file as a PDF or HTML file and submit in the final section of this lesson.\n",
    "\n",
    "\n",
    "(1) What is the independent variable? What is the dependent variable?"
   ]
  },
  {
   "cell_type": "markdown",
   "metadata": {},
   "source": [
    "The dependent variable is the Reaction Time taken to complete naming the colours of all words in the Stroop Effect test.\n",
    "\n",
    "The independent variable is the congruency of the font colour vs the word itself. The most congruent being where the font colour is the same as the word itself. "
   ]
  },
  {
   "cell_type": "markdown",
   "metadata": {},
   "source": [
    "(2) What is an appropriate set of hypotheses for this task? Specify your null and alternative hypotheses, and clearly define any notation used. Justify your choices."
   ]
  },
  {
   "cell_type": "markdown",
   "metadata": {},
   "source": [
    "**Null Hypothesis:**   There is no significant statistical difference between the Congruent Test 1 ($T1$) and the Incongruent Test 2 ($T2$)\n",
    "\n",
    "$ H_0: μ_{T1} = μ_{T2} $\n",
    "\n",
    "**Alternative Hypothesis:**   There is a significant statistical difference between the Congruent Test 1 ($T1$) and the Incongruent Test 2 ($T2$), where significant difference is defined as having a $P Value > 0.5$\n",
    "\n",
    "$H_1: μ_{T1} ≠ μ_{T2} $  \n",
    "\n",
    "$ μ_{T1} $ = The mean of Congruent Words test sample      \n",
    "$ μ_{T2} $ = The mean of Incongruent Words test sample\n",
    "\n",
    "\n",
    "**Justification for Hypothesis:**\n",
    "\n",
    "The finding from the Stroop Effect test would suggest there's a difference in reaction times between the Congruent Words test sample vs the Incongruent Words test sample. This would lead to the conculsion that there's a difference between the reaction times of the population from which we are sampling. \n",
    "\n",
    "A Two Tailed T-Test has been chosen, as this allows us to compare the reaction time from the two samples from the same population under two different conditions. The test will allow us to measure the significant differences between the two samples and aide in concluding on the population as a whole. "
   ]
  },
  {
   "cell_type": "markdown",
   "metadata": {},
   "source": [
    "(3) Report some descriptive statistics regarding this dataset. Include at least one measure of central tendency and at least one measure of variability. The name of the data file is 'stroopdata.csv'."
   ]
  },
  {
   "cell_type": "code",
   "execution_count": 50,
   "metadata": {},
   "outputs": [
    {
     "name": "stdout",
     "output_type": "stream",
     "text": [
      "-------------------------------------------------\n",
      "* Congruent Mean:  14.051125\n",
      "* Incongruent Mean:  22.0159166667\n",
      "* Congruent Median:  14.3565\n",
      "* Incongruent Median:  21.0175\n",
      "* Congruent STD:  3.55935795765\n",
      "* Incongruent STD:  4.79705712247\n",
      "-------------------------------------------------\n"
     ]
    }
   ],
   "source": [
    "import pandas as pd \n",
    "\n",
    "data = pd.read_csv(\"stroopdata.csv\")\n",
    "\n",
    "mean_c = data['Congruent'].mean()\n",
    "mean_i = data['Incongruent'].mean()\n",
    "\n",
    "median_c = data['Congruent'].median()\n",
    "median_i = data['Incongruent'].median()\n",
    "\n",
    "std_c = data['Congruent'].std()\n",
    "std_i = data['Incongruent'].std()\n",
    "\n",
    "\n",
    "print(\"-------------------------------------------------\")\n",
    "\n",
    "print('* Congruent Mean: ', mean_c)\n",
    "print('* Incongruent Mean: ', mean_i)\n",
    "print('* Congruent Median: ', median_c)\n",
    "print('* Incongruent Median: ', median_i)\n",
    "print('* Congruent STD: ', std_c)\n",
    "print('* Incongruent STD: ', std_i)\n",
    "\n",
    "print(\"-------------------------------------------------\")\n"
   ]
  },
  {
   "cell_type": "markdown",
   "metadata": {},
   "source": [
    "|         | Congruent           | Incongruent  |\n",
    "| ------------- |-------------| -----|\n",
    "| Mean     | 14.0511| 22.0159 |\n",
    "| Median      | 14.3565      |   21.0175 |\n",
    "| STD      | 3.5594      |   4.7971 |"
   ]
  },
  {
   "cell_type": "markdown",
   "metadata": {},
   "source": [
    "(4) Provide one or two visualizations that show the distribution of the sample data. Write one or two sentences noting what you observe about the plot or plots."
   ]
  },
  {
   "cell_type": "code",
   "execution_count": 4,
   "metadata": {},
   "outputs": [
    {
     "data": {
      "text/plain": [
       "Text(0,0.5,'Count')"
      ]
     },
     "execution_count": 4,
     "metadata": {},
     "output_type": "execute_result"
    },
    {
     "data": {
      "image/png": "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\n",
      "text/plain": [
       "<matplotlib.figure.Figure at 0x7fc9758fc128>"
      ]
     },
     "metadata": {},
     "output_type": "display_data"
    },
    {
     "data": {
      "image/png": "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\n",
      "text/plain": [
       "<matplotlib.figure.Figure at 0x7fc975433be0>"
      ]
     },
     "metadata": {},
     "output_type": "display_data"
    }
   ],
   "source": [
    "import matplotlib.pyplot as plt\n",
    "import numpy as np\n",
    "import pandas as pd \n",
    "\n",
    "plt.rcParams[\"patch.force_edgecolor\"] = True\n",
    "\n",
    "plt.style.use('seaborn-notebook')\n",
    "\n",
    "data = pd.read_csv(\"stroopdata.csv\")\n",
    "\n",
    "fig = plt.figure(0)\n",
    "ax = fig.add_subplot(111)\n",
    "box = ax.boxplot([data['Congruent'], data['Incongruent']])\n",
    "ax.set_xticklabels(['Congruent','Incongruent'])\n",
    "ax.set_ylabel('Time')\n",
    "\n",
    "hist_data = np.vstack([data['Congruent'], data['Incongruent']]).T\n",
    "\n",
    "fig2 = plt.figure(1)\n",
    "ax2 = fig2.add_subplot(111)\n",
    "\n",
    "ax2.hist(data['Congruent'], label='Congruent', alpha=0.8)\n",
    "ax2.hist(data['Incongruent'], label='Incongruent', alpha=0.8)\n",
    "ax2.legend(loc='upper right')\n",
    "\n",
    "ax2.set_xlabel('Time')\n",
    "ax2.set_ylabel('Count')\n",
    "\n",
    "\n",
    "\n",
    "\n",
    "\n"
   ]
  },
  {
   "cell_type": "markdown",
   "metadata": {},
   "source": [
    "**Box Plot Observations:**\n",
    "\n",
    "The Incongruent box plot sits higher that the Congruent. This would suggest a significant difference in mean times between the two tests. \n",
    "\n",
    "The Congruent Upper Whisker has a comparitavely larger range. This would suggest a larger variance in completion time by testers in Quartile Group 4. \n",
    "\n",
    "**Histogram Observations:**\n",
    "\n",
    "The histogram also shows a deviation between the Congruent and Incongruent mean and median.  \n",
    "\n",
    "The Incongruent shows obvious outliers to the right end of the Time axis. \n",
    "\n",
    "\n"
   ]
  },
  {
   "cell_type": "markdown",
   "metadata": {},
   "source": [
    "(5)  Now, perform the statistical test and report your results. What is your confidence level or Type I error associated with your test? What is your conclusion regarding the hypotheses you set up? Did the results match up with your expectations? **Hint:**  Think about what is being measured on each individual, and what statistic best captures how an individual reacts in each environment."
   ]
  },
  {
   "cell_type": "code",
   "execution_count": 8,
   "metadata": {},
   "outputs": [
    {
     "name": "stdout",
     "output_type": "stream",
     "text": [
      "Degrees of Freedom =  23\n",
      "mean difference =  -7.9648\n",
      "T-critical Value =  2.069\n",
      "T =  -8.0207\n",
      "P-Value =  0.0000\n",
      "-------------------------------\n",
      "Confidence Interval at 95%:\n",
      "-------------------------------\n",
      "Lower =  -13.5074441\n",
      "Upper =  -2.4221559\n"
     ]
    }
   ],
   "source": [
    "from scipy import stats\n",
    "from sklearn.metrics import mean_squared_error\n",
    "import numpy as np\n",
    "import pandas as pd\n",
    "import math\n",
    "\n",
    "data = pd.read_csv(\"stroopdata.csv\")\n",
    "\n",
    "# Degress of freedom = 1-N where N is the number of data points in the sample\n",
    "df = 23 \n",
    "\n",
    "# For a 95% Confident Interval on a two-tailed T-Test, \n",
    "# we use the critical values corrseponding to those for a one–tailed test at the 97.5% confidence level\n",
    "# src: https://www.itl.nist.gov/div898/handbook/eda/section3/eda3672.htm\n",
    "\n",
    "tcrit = 2.069\n",
    "\n",
    "# Calculating the Confidence Interval on the difference between means \n",
    "\n",
    "meandiff = (data[\"Congruent\"]).mean() - (data[\"Incongruent\"].mean())\n",
    "mse = mean_squared_error(data[\"Congruent\"], data[\"Incongruent\"])\n",
    "stderr = math.sqrt(((2*mse)/24))\n",
    "\n",
    "lower = round(meandiff, 4) - (tcrit)*(round(stderr, 4))\n",
    "upper = round(meandiff, 4) + (tcrit)*(round(stderr, 4))\n",
    "\n",
    "T, P = stats.ttest_rel(data[\"Congruent\"],data[\"Incongruent\"])\n",
    "\n",
    "print('Degrees of Freedom = ', 23)\n",
    "print('mean difference = ', \"{0:.4f}\".format(meandiff))\n",
    "\n",
    "print('T-critical Value = ', tcrit)\n",
    "\n",
    "print('T = ', \"{0:.4f}\".format(T))\n",
    "print ('P-Value = ', \"{0:.4f}\".format(P))\n",
    "print('-------------------------------')\n",
    "print('Confidence Interval at 95%:')\n",
    "print('-------------------------------')\n",
    "\n",
    "print('Lower = ', lower)\n",
    "print('Upper = ', upper)\n",
    "\n",
    "\n"
   ]
  },
  {
   "cell_type": "markdown",
   "metadata": {},
   "source": [
    "The T-Test shows a Confidence Interval at -13.5074441, -2.4221559 with a P-Value <  0.025.\n",
    "\n",
    "The P-Value is lower than 0.025, therefore we can reject the null Hypothesis $ H_0 $\n",
    "\n",
    "The test shows a significant difference in the reaction time between the two groups which matches up with my expectations. \n"
   ]
  {
   "cell_type": "markdown",
   "metadata": {},
   "source": [
    **Bibliography**:,
    "\n",
    "[](https://en.wikipedia.org/wiki/Stroop_effect#)",
    "[](https://statistics.laerd.com/statistical-guides/types-of-variable.php)",
    "[](https://stats.stackexchange.com/questions/190223/how-to-visualize-independent-two-sample-t-test)",
    "[](https://docs.scipy.org/doc/scipy-0.14.0/reference/generated/scipy.stats.t.html)",
    "[](https://www.itl.nist.gov/div898/handbook/eda/section3/eda352.htm)",
    "[](https://www.itl.nist.gov/div898/handbook/eda/section3/eda3672.htm)",
    "[](http://www.chem.utoronto.ca/coursenotes/analsci/stats/12tailed.html)",
   ]
  }
 ],
 "metadata": {
  "kernelspec": {
   "display_name": "Python 3",
   "language": "python",
   "name": "python3"
  },
  "language_info": {
   "codemirror_mode": {
    "name": "ipython",
    "version": 3
   },
   "file_extension": ".py",
   "mimetype": "text/x-python",
   "name": "python",
   "nbconvert_exporter": "python",
   "pygments_lexer": "ipython3",
   "version": "3.6.3"
  }
 },
 "nbformat": 4,
 "nbformat_minor": 2
}
